{
 "cells": [
  {
   "cell_type": "code",
   "execution_count": 1,
   "id": "55ab17f1",
   "metadata": {},
   "outputs": [
    {
     "name": "stdout",
     "output_type": "stream",
     "text": [
      "Circle area: 254.34\n",
      "Rectangle area: 15\n",
      "Triangle area: 28.0\n"
     ]
    }
   ],
   "source": [
    "#ASMA RAUF\n",
    "#ROLL NUMBER : FA24-BBD-019\n",
    "#SECTION : A\n",
    "\n",
    "#QUESTION 9\n",
    "\n",
    "class Shape:\n",
    "    def cal_area(self):\n",
    "        pass\n",
    "\n",
    "class Circle(Shape):\n",
    "    def __init__(self, radius):\n",
    "        self.radius = radius\n",
    "\n",
    "    def cal_area(self):\n",
    "        return 3.14 * self.radius ** 2\n",
    "\n",
    "class Rectangle(Shape):\n",
    "    def __init__(self, width, height):\n",
    "        self.width = width\n",
    "        self.height = height\n",
    "    def cal_area(self):\n",
    "        return self.width * self.height\n",
    "\n",
    "class Triangle(Shape):\n",
    "    def __init__(self, base, height):\n",
    "        self.base = base\n",
    "        self.height = height\n",
    "\n",
    "    def cal_area(self):\n",
    "        return 0.5 * self.base * self.height\n",
    "\n",
    "\n",
    "circle = Circle(9)\n",
    "print(\"Circle area:\", circle.cal_area()) \n",
    "rectangle = Rectangle(3, 5)\n",
    "print(\"Rectangle area:\", rectangle.cal_area())  \n",
    "triangle = Triangle(8, 7)\n",
    "print(\"Triangle area:\", triangle.cal_area()) "
   ]
  },
  {
   "cell_type": "code",
   "execution_count": 2,
   "id": "91dce66a",
   "metadata": {},
   "outputs": [
    {
     "name": "stdout",
     "output_type": "stream",
     "text": [
      "Milly says Woof\n",
      "daisy says Meow\n",
      "bhalu says Moo\n"
     ]
    }
   ],
   "source": [
    "#QUESTION : 10 \n",
    "\n",
    "class animal:\n",
    "    def __init__(self, name , sound):\n",
    "        self.name = name\n",
    "        self.sound = sound \n",
    "    \n",
    "    def make_sound(self):\n",
    "        return f\"{self.name} says {self.sound}\"\n",
    "\n",
    "class dog(animal):\n",
    "    def __init__(self, name):\n",
    "        self.name = name\n",
    "        self.sound = \"Woof\"\n",
    "\n",
    "class cat(animal):\n",
    "    def __init__(self, name):\n",
    "        self.name = name\n",
    "        self.sound = \"Meow\"\n",
    "\n",
    "class cow(animal):\n",
    "    def __init__(self, name):\n",
    "        self.name = name\n",
    "        self.sound = \"Moo\"\n",
    "\n",
    "\n",
    "dog = dog(\"Milly\")\n",
    "print(dog.make_sound())\n",
    "\n",
    "cat = cat(\"daisy\")\n",
    "print(cat.make_sound())\n",
    "\n",
    "cow = cow(\"bhalu\")\n",
    "print(cow.make_sound())"
   ]
  },
  {
   "cell_type": "code",
   "execution_count": null,
   "id": "d05198f6",
   "metadata": {},
   "outputs": [],
   "source": []
  }
 ],
 "metadata": {
  "kernelspec": {
   "display_name": "Python 3 (ipykernel)",
   "language": "python",
   "name": "python3"
  },
  "language_info": {
   "codemirror_mode": {
    "name": "ipython",
    "version": 3
   },
   "file_extension": ".py",
   "mimetype": "text/x-python",
   "name": "python",
   "nbconvert_exporter": "python",
   "pygments_lexer": "ipython3",
   "version": "3.11.5"
  }
 },
 "nbformat": 4,
 "nbformat_minor": 5
}
